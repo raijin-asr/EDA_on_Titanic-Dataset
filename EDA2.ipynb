{
 "cells": [
  {
   "cell_type": "code",
   "execution_count": null,
   "metadata": {
    "_cell_guid": "b1076dfc-b9ad-4769-8c92-a6c4dae69d19",
    "_uuid": "8f2839f25d086af736a60e9eeb907d3b93b6e0e5",
    "execution": {
     "iopub.execute_input": "2024-11-28T06:14:33.048729Z",
     "iopub.status.busy": "2024-11-28T06:14:33.048171Z",
     "iopub.status.idle": "2024-11-28T06:14:34.071359Z",
     "shell.execute_reply": "2024-11-28T06:14:34.070360Z",
     "shell.execute_reply.started": "2024-11-28T06:14:33.048696Z"
    },
    "trusted": true
   },
   "outputs": [],
   "source": [
    "# This Python 3 environment comes with many helpful analytics libraries installed\n",
    "# It is defined by the kaggle/python Docker image: https://github.com/kaggle/docker-python\n",
    "# For example, here's several helpful packages to load\n",
    "\n",
    "import numpy as np # linear algebra\n",
    "import pandas as pd # data processing, CSV file I/O (e.g. pd.read_csv)\n",
    "\n",
    "# Input data files are available in the read-only \"../input/\" directory\n",
    "# For example, running this (by clicking run or pressing Shift+Enter) will list all files under the input directory\n",
    "\n",
    "import os\n",
    "for dirname, _, filenames in os.walk('/kaggle/input'):\n",
    "    for filename in filenames:\n",
    "        print(os.path.join(dirname, filename))\n",
    "\n",
    "# You can write up to 20GB to the current directory (/kaggle/working/) that gets preserved as output when you create a version using \"Save & Run All\" \n",
    "# You can also write temporary files to /kaggle/temp/, but they won't be saved outside of the current session"
   ]
  },
  {
   "cell_type": "code",
   "execution_count": null,
   "metadata": {
    "execution": {
     "iopub.execute_input": "2024-11-28T06:14:34.073222Z",
     "iopub.status.busy": "2024-11-28T06:14:34.072880Z",
     "iopub.status.idle": "2024-11-28T06:14:35.434943Z",
     "shell.execute_reply": "2024-11-28T06:14:35.433921Z",
     "shell.execute_reply.started": "2024-11-28T06:14:34.073194Z"
    },
    "trusted": true
   },
   "outputs": [],
   "source": [
    "import pandas as pd\n",
    "import numpy as np\n",
    "import matplotlib.pyplot as plt\n",
    "import seaborn as sns"
   ]
  },
  {
   "cell_type": "code",
   "execution_count": null,
   "metadata": {
    "execution": {
     "iopub.execute_input": "2024-11-28T06:14:35.436366Z",
     "iopub.status.busy": "2024-11-28T06:14:35.436020Z",
     "iopub.status.idle": "2024-11-28T06:14:35.457233Z",
     "shell.execute_reply": "2024-11-28T06:14:35.456381Z",
     "shell.execute_reply.started": "2024-11-28T06:14:35.436336Z"
    },
    "trusted": true
   },
   "outputs": [],
   "source": [
    "df = pd.read_csv('../input/titanic/train.csv')"
   ]
  },
  {
   "cell_type": "markdown",
   "metadata": {},
   "source": [
    "# Exploratory Data Analysis"
   ]
  },
  {
   "cell_type": "code",
   "execution_count": null,
   "metadata": {
    "execution": {
     "iopub.execute_input": "2024-11-28T06:14:35.459354Z",
     "iopub.status.busy": "2024-11-28T06:14:35.459069Z",
     "iopub.status.idle": "2024-11-28T06:14:35.480470Z",
     "shell.execute_reply": "2024-11-28T06:14:35.479561Z",
     "shell.execute_reply.started": "2024-11-28T06:14:35.459328Z"
    },
    "trusted": true
   },
   "outputs": [],
   "source": [
    "df.head()"
   ]
  },
  {
   "cell_type": "code",
   "execution_count": null,
   "metadata": {
    "execution": {
     "iopub.execute_input": "2024-11-28T06:14:35.482111Z",
     "iopub.status.busy": "2024-11-28T06:14:35.481775Z",
     "iopub.status.idle": "2024-11-28T06:14:35.502998Z",
     "shell.execute_reply": "2024-11-28T06:14:35.502170Z",
     "shell.execute_reply.started": "2024-11-28T06:14:35.482072Z"
    },
    "trusted": true
   },
   "outputs": [],
   "source": [
    "df.info()"
   ]
  },
  {
   "cell_type": "code",
   "execution_count": null,
   "metadata": {
    "execution": {
     "iopub.execute_input": "2024-11-28T06:14:35.504543Z",
     "iopub.status.busy": "2024-11-28T06:14:35.504175Z",
     "iopub.status.idle": "2024-11-28T06:14:35.516366Z",
     "shell.execute_reply": "2024-11-28T06:14:35.515554Z",
     "shell.execute_reply.started": "2024-11-28T06:14:35.504478Z"
    },
    "trusted": true
   },
   "outputs": [],
   "source": [
    "df['Cabin'].value_counts()"
   ]
  },
  {
   "cell_type": "code",
   "execution_count": null,
   "metadata": {
    "execution": {
     "iopub.execute_input": "2024-11-28T06:14:35.517721Z",
     "iopub.status.busy": "2024-11-28T06:14:35.517427Z",
     "iopub.status.idle": "2024-11-28T06:14:35.529484Z",
     "shell.execute_reply": "2024-11-28T06:14:35.528677Z",
     "shell.execute_reply.started": "2024-11-28T06:14:35.517694Z"
    },
    "trusted": true
   },
   "outputs": [],
   "source": [
    "df.isna().sum()"
   ]
  },
  {
   "cell_type": "markdown",
   "metadata": {},
   "source": [
    "## Age Visualizations"
   ]
  },
  {
   "cell_type": "code",
   "execution_count": null,
   "metadata": {
    "execution": {
     "iopub.execute_input": "2024-11-28T06:14:35.531170Z",
     "iopub.status.busy": "2024-11-28T06:14:35.530549Z",
     "iopub.status.idle": "2024-11-28T06:14:35.915994Z",
     "shell.execute_reply": "2024-11-28T06:14:35.915129Z",
     "shell.execute_reply.started": "2024-11-28T06:14:35.531126Z"
    },
    "trusted": true
   },
   "outputs": [],
   "source": [
    "# Age Distribution Plot\n",
    "df['Age'].hist(grid=False)\n",
    "plt.title(\"Age Distribution of Titanic Passengers\")\n",
    "plt.xlabel(\"Age\")\n",
    "plt.ylabel(\"Frequency\");"
   ]
  },
  {
   "cell_type": "code",
   "execution_count": null,
   "metadata": {
    "execution": {
     "iopub.execute_input": "2024-11-28T06:14:35.917387Z",
     "iopub.status.busy": "2024-11-28T06:14:35.917124Z",
     "iopub.status.idle": "2024-11-28T06:14:35.935739Z",
     "shell.execute_reply": "2024-11-28T06:14:35.934731Z",
     "shell.execute_reply.started": "2024-11-28T06:14:35.917361Z"
    },
    "trusted": true
   },
   "outputs": [],
   "source": [
    "df['Age'].describe()"
   ]
  },
  {
   "cell_type": "code",
   "execution_count": null,
   "metadata": {
    "execution": {
     "iopub.execute_input": "2024-11-28T06:14:35.939566Z",
     "iopub.status.busy": "2024-11-28T06:14:35.939247Z",
     "iopub.status.idle": "2024-11-28T06:14:35.947125Z",
     "shell.execute_reply": "2024-11-28T06:14:35.946107Z",
     "shell.execute_reply.started": "2024-11-28T06:14:35.939524Z"
    },
    "trusted": true
   },
   "outputs": [],
   "source": [
    "# Fill missing values of the Age column by the median\n",
    "df['Age'].fillna(df['Age'].median(),inplace=True)"
   ]
  },
  {
   "cell_type": "code",
   "execution_count": null,
   "metadata": {
    "execution": {
     "iopub.execute_input": "2024-11-28T06:14:35.949341Z",
     "iopub.status.busy": "2024-11-28T06:14:35.949103Z",
     "iopub.status.idle": "2024-11-28T06:14:36.250004Z",
     "shell.execute_reply": "2024-11-28T06:14:36.248873Z",
     "shell.execute_reply.started": "2024-11-28T06:14:35.949315Z"
    },
    "trusted": true
   },
   "outputs": [],
   "source": [
    "# Age Distribution Plot After Imputation\n",
    "df['Age'].hist(grid=False)\n",
    "plt.title(\"Age Distribution of Titanic Passengers After Imputation\")\n",
    "plt.xlabel(\"Age\")\n",
    "plt.ylabel(\"Frequency\");"
   ]
  },
  {
   "cell_type": "code",
   "execution_count": null,
   "metadata": {
    "execution": {
     "iopub.execute_input": "2024-11-28T06:14:36.251775Z",
     "iopub.status.busy": "2024-11-28T06:14:36.251345Z",
     "iopub.status.idle": "2024-11-28T06:14:36.478139Z",
     "shell.execute_reply": "2024-11-28T06:14:36.477212Z",
     "shell.execute_reply.started": "2024-11-28T06:14:36.251717Z"
    },
    "trusted": true
   },
   "outputs": [],
   "source": [
    "sns.boxplot(y='Age',data=df)\n",
    "plt.title(\"Age Boxplot\");"
   ]
  },
  {
   "cell_type": "code",
   "execution_count": null,
   "metadata": {
    "execution": {
     "iopub.execute_input": "2024-11-28T06:14:36.479803Z",
     "iopub.status.busy": "2024-11-28T06:14:36.479416Z",
     "iopub.status.idle": "2024-11-28T06:14:36.744528Z",
     "shell.execute_reply": "2024-11-28T06:14:36.743582Z",
     "shell.execute_reply.started": "2024-11-28T06:14:36.479762Z"
    },
    "trusted": true
   },
   "outputs": [],
   "source": [
    "# 1: Upper Class, 2:Middle Class, 3:Lower Class\n",
    "# Boxplot: Age by passenger class\n",
    "plt.figure(figsize=(8, 6))\n",
    "sns.boxplot(x='Pclass', y='Age', data=df, palette='Set2')\n",
    "plt.title(\"Age Distribution by Passenger Class\", fontsize=16)\n",
    "plt.xlabel(\"Passenger Class\", fontsize=14)\n",
    "plt.ylabel(\"Age\", fontsize=14)\n",
    "plt.show()"
   ]
  },
  {
   "cell_type": "code",
   "execution_count": null,
   "metadata": {
    "execution": {
     "iopub.execute_input": "2024-11-28T06:14:36.746128Z",
     "iopub.status.busy": "2024-11-28T06:14:36.745775Z",
     "iopub.status.idle": "2024-11-28T06:14:36.754115Z",
     "shell.execute_reply": "2024-11-28T06:14:36.752995Z",
     "shell.execute_reply.started": "2024-11-28T06:14:36.746086Z"
    },
    "trusted": true
   },
   "outputs": [],
   "source": [
    "conditions = [\n",
    "    (df['Age'] < 18),  \n",
    "    (df['Age'] >= 18) & (df['Age'] <= 59),  \n",
    "    (df['Age'] >= 60)  \n",
    "]\n",
    "choices = ['Child', 'Adult', 'Senior']\n",
    "df['Age_Group'] = np.select(conditions, choices, default='Unknown')"
   ]
  },
  {
   "cell_type": "code",
   "execution_count": null,
   "metadata": {
    "execution": {
     "iopub.execute_input": "2024-11-28T06:14:36.755808Z",
     "iopub.status.busy": "2024-11-28T06:14:36.755417Z",
     "iopub.status.idle": "2024-11-28T06:14:37.041765Z",
     "shell.execute_reply": "2024-11-28T06:14:37.040761Z",
     "shell.execute_reply.started": "2024-11-28T06:14:36.755765Z"
    },
    "trusted": true
   },
   "outputs": [],
   "source": [
    "# Plot to show the distribution of Pclass among those who Survived/Died\n",
    "sns.countplot(x=\"Age_Group\", hue=\"Survived\", data=df,order=['Child', 'Adult', 'Senior'])\n",
    "plt.xticks(ticks=[0, 1,2], labels=['Child','Adult', 'Senior'])\n",
    "plt.legend(title='Survival Status', labels=['Did not survive', 'Survived'])\n",
    "plt.xlabel(\"Age Group\")\n",
    "plt.ylabel(\"Frequency\")\n",
    "plt.title(\"Survival Status by Age Group on the Titanic\");"
   ]
  },
  {
   "cell_type": "code",
   "execution_count": null,
   "metadata": {
    "execution": {
     "iopub.execute_input": "2024-11-28T06:14:37.043434Z",
     "iopub.status.busy": "2024-11-28T06:14:37.043077Z",
     "iopub.status.idle": "2024-11-28T06:14:37.051230Z",
     "shell.execute_reply": "2024-11-28T06:14:37.050055Z",
     "shell.execute_reply.started": "2024-11-28T06:14:37.043394Z"
    },
    "trusted": true
   },
   "outputs": [],
   "source": [
    "df.drop(columns=[\"Age_Group\"],inplace=True)"
   ]
  },
  {
   "cell_type": "markdown",
   "metadata": {},
   "source": [
    "## Dropping column Cabin"
   ]
  },
  {
   "cell_type": "code",
   "execution_count": null,
   "metadata": {
    "execution": {
     "iopub.execute_input": "2024-11-28T06:14:37.052808Z",
     "iopub.status.busy": "2024-11-28T06:14:37.052463Z",
     "iopub.status.idle": "2024-11-28T06:14:37.062347Z",
     "shell.execute_reply": "2024-11-28T06:14:37.061424Z",
     "shell.execute_reply.started": "2024-11-28T06:14:37.052768Z"
    },
    "trusted": true
   },
   "outputs": [],
   "source": [
    "# Drop the cabin column as there are too many missing values\n",
    "df.drop(columns=['Cabin'],axis=1,inplace=True)"
   ]
  },
  {
   "cell_type": "code",
   "execution_count": null,
   "metadata": {
    "execution": {
     "iopub.execute_input": "2024-11-28T06:14:37.063790Z",
     "iopub.status.busy": "2024-11-28T06:14:37.063419Z",
     "iopub.status.idle": "2024-11-28T06:14:37.077953Z",
     "shell.execute_reply": "2024-11-28T06:14:37.077042Z",
     "shell.execute_reply.started": "2024-11-28T06:14:37.063748Z"
    },
    "trusted": true
   },
   "outputs": [],
   "source": [
    "df.columns"
   ]
  },
  {
   "cell_type": "markdown",
   "metadata": {},
   "source": [
    "## Embarked Visualization"
   ]
  },
  {
   "cell_type": "code",
   "execution_count": null,
   "metadata": {
    "execution": {
     "iopub.execute_input": "2024-11-28T06:14:37.079370Z",
     "iopub.status.busy": "2024-11-28T06:14:37.079061Z",
     "iopub.status.idle": "2024-11-28T06:14:37.100024Z",
     "shell.execute_reply": "2024-11-28T06:14:37.099222Z",
     "shell.execute_reply.started": "2024-11-28T06:14:37.079333Z"
    },
    "trusted": true
   },
   "outputs": [],
   "source": [
    "df[df['Embarked'].isna()]"
   ]
  },
  {
   "cell_type": "code",
   "execution_count": null,
   "metadata": {
    "execution": {
     "iopub.execute_input": "2024-11-28T06:14:37.101980Z",
     "iopub.status.busy": "2024-11-28T06:14:37.101599Z",
     "iopub.status.idle": "2024-11-28T06:14:37.114321Z",
     "shell.execute_reply": "2024-11-28T06:14:37.113202Z",
     "shell.execute_reply.started": "2024-11-28T06:14:37.101938Z"
    },
    "trusted": true
   },
   "outputs": [],
   "source": [
    "df['Embarked'].value_counts()"
   ]
  },
  {
   "cell_type": "code",
   "execution_count": null,
   "metadata": {
    "execution": {
     "iopub.execute_input": "2024-11-28T06:14:37.115837Z",
     "iopub.status.busy": "2024-11-28T06:14:37.115503Z",
     "iopub.status.idle": "2024-11-28T06:14:37.127175Z",
     "shell.execute_reply": "2024-11-28T06:14:37.126271Z",
     "shell.execute_reply.started": "2024-11-28T06:14:37.115801Z"
    },
    "trusted": true
   },
   "outputs": [],
   "source": [
    "# Fill or drop?\n",
    "# Fill missing values of the Embarked column by the mode\n",
    "df['Embarked'].fillna(df['Embarked'].mode()[0],inplace=True)"
   ]
  },
  {
   "cell_type": "code",
   "execution_count": null,
   "metadata": {
    "execution": {
     "iopub.execute_input": "2024-11-28T06:14:37.128597Z",
     "iopub.status.busy": "2024-11-28T06:14:37.128287Z",
     "iopub.status.idle": "2024-11-28T06:14:37.141599Z",
     "shell.execute_reply": "2024-11-28T06:14:37.140572Z",
     "shell.execute_reply.started": "2024-11-28T06:14:37.128570Z"
    },
    "trusted": true
   },
   "outputs": [],
   "source": [
    "df.info()"
   ]
  },
  {
   "cell_type": "code",
   "execution_count": null,
   "metadata": {
    "execution": {
     "iopub.execute_input": "2024-11-28T06:14:37.143127Z",
     "iopub.status.busy": "2024-11-28T06:14:37.142788Z",
     "iopub.status.idle": "2024-11-28T06:14:37.156185Z",
     "shell.execute_reply": "2024-11-28T06:14:37.155359Z",
     "shell.execute_reply.started": "2024-11-28T06:14:37.143084Z"
    },
    "trusted": true
   },
   "outputs": [],
   "source": [
    "df.isna().sum()"
   ]
  },
  {
   "cell_type": "code",
   "execution_count": null,
   "metadata": {
    "execution": {
     "iopub.execute_input": "2024-11-28T06:14:37.157318Z",
     "iopub.status.busy": "2024-11-28T06:14:37.157094Z",
     "iopub.status.idle": "2024-11-28T06:14:37.402474Z",
     "shell.execute_reply": "2024-11-28T06:14:37.401504Z",
     "shell.execute_reply.started": "2024-11-28T06:14:37.157294Z"
    },
    "trusted": true
   },
   "outputs": [],
   "source": [
    "#C = Cherbourg, Q = Queenstown, S = Southampton\n",
    "loc = {\n",
    "    \"C\" : \"Cherbourg\",\n",
    "    \"Q\": \"Queenstown\",\n",
    "    \"S\":\"Southampton\"\n",
    "}\n",
    "\n",
    "df[\"Embarked\"].replace(loc).value_counts().plot(kind=\"bar\")\n",
    "# df_train['Embarked'].value_counts().plot(kind=\"bar\")\n",
    "plt.title(\"Passengers Embarked Location\")\n",
    "plt.xlabel(\"Embarked Location\")\n",
    "plt.ylabel(\"Frequency\");"
   ]
  },
  {
   "cell_type": "code",
   "execution_count": null,
   "metadata": {
    "execution": {
     "iopub.execute_input": "2024-11-28T06:14:37.404194Z",
     "iopub.status.busy": "2024-11-28T06:14:37.403829Z",
     "iopub.status.idle": "2024-11-28T06:14:37.410294Z",
     "shell.execute_reply": "2024-11-28T06:14:37.409300Z",
     "shell.execute_reply.started": "2024-11-28T06:14:37.404154Z"
    },
    "trusted": true
   },
   "outputs": [],
   "source": [
    "df['Sex'] = df['Sex'].map({'male':0,'female':1})"
   ]
  },
  {
   "cell_type": "markdown",
   "metadata": {},
   "source": [
    "## Siblings/Spouses Visualization"
   ]
  },
  {
   "cell_type": "code",
   "execution_count": null,
   "metadata": {
    "execution": {
     "iopub.execute_input": "2024-11-28T06:14:37.422041Z",
     "iopub.status.busy": "2024-11-28T06:14:37.421784Z",
     "iopub.status.idle": "2024-11-28T06:14:37.690076Z",
     "shell.execute_reply": "2024-11-28T06:14:37.689258Z",
     "shell.execute_reply.started": "2024-11-28T06:14:37.422016Z"
    },
    "trusted": true
   },
   "outputs": [],
   "source": [
    "# Visualizing number of siblings and spouses\n",
    "df['SibSp'].value_counts().sort_index().plot(kind=\"bar\")\n",
    "plt.xlabel(\"Number of Siblings/Spouses\")\n",
    "plt.ylabel(\"Frequency\")\n",
    "plt.title(\"Distribution of Siblings/Spouses Aboard the Titanic\");"
   ]
  },
  {
   "cell_type": "markdown",
   "metadata": {},
   "source": [
    "## Parents/Children Visualization"
   ]
  },
  {
   "cell_type": "code",
   "execution_count": null,
   "metadata": {
    "execution": {
     "iopub.execute_input": "2024-11-28T06:14:37.695091Z",
     "iopub.status.busy": "2024-11-28T06:14:37.694831Z",
     "iopub.status.idle": "2024-11-28T06:14:37.961254Z",
     "shell.execute_reply": "2024-11-28T06:14:37.960306Z",
     "shell.execute_reply.started": "2024-11-28T06:14:37.695066Z"
    },
    "trusted": true
   },
   "outputs": [],
   "source": [
    "# Visualizing number of parents and children\n",
    "df['Parch'].value_counts().sort_index().plot(kind=\"bar\")\n",
    "plt.xlabel(\"Number of Parents/Children\")\n",
    "plt.ylabel(\"Frequency\")\n",
    "plt.title(\"Distribution of Parents/Children Aboard the Titanic\");"
   ]
  },
  {
   "cell_type": "markdown",
   "metadata": {},
   "source": [
    "## Dropping Column Ticket"
   ]
  },
  {
   "cell_type": "code",
   "execution_count": null,
   "metadata": {
    "execution": {
     "iopub.execute_input": "2024-11-28T06:14:37.962621Z",
     "iopub.status.busy": "2024-11-28T06:14:37.962318Z",
     "iopub.status.idle": "2024-11-28T06:14:37.967754Z",
     "shell.execute_reply": "2024-11-28T06:14:37.966783Z",
     "shell.execute_reply.started": "2024-11-28T06:14:37.962582Z"
    },
    "trusted": true
   },
   "outputs": [],
   "source": [
    "# Drop the Ticket column as it holds no significance\n",
    "df.drop(columns=['Ticket'],inplace=True)"
   ]
  },
  {
   "cell_type": "markdown",
   "metadata": {},
   "source": [
    "## Gender Distribution among Survived/Died"
   ]
  },
  {
   "cell_type": "code",
   "execution_count": null,
   "metadata": {
    "execution": {
     "iopub.execute_input": "2024-11-28T06:14:37.969678Z",
     "iopub.status.busy": "2024-11-28T06:14:37.969036Z",
     "iopub.status.idle": "2024-11-28T06:14:38.224381Z",
     "shell.execute_reply": "2024-11-28T06:14:38.223529Z",
     "shell.execute_reply.started": "2024-11-28T06:14:37.969629Z"
    },
    "trusted": true
   },
   "outputs": [],
   "source": [
    "# Plot to show the distribution of Sex among those who Survived/Died\n",
    "sns.countplot(x=\"Sex\", hue=\"Survived\", data=df)\n",
    "plt.xticks(ticks=[0, 1], labels=['male','female'])\n",
    "plt.legend(title='Survival Status', labels=['Did not survive', 'Survived'])\n",
    "plt.title(\"Distribution of Sex among Survived/Died\")\n",
    "plt.xlabel(\"Sex\")\n",
    "plt.ylabel(\"Frequency\");"
   ]
  },
  {
   "cell_type": "code",
   "execution_count": null,
   "metadata": {
    "execution": {
     "iopub.execute_input": "2024-11-28T06:14:38.226327Z",
     "iopub.status.busy": "2024-11-28T06:14:38.225662Z",
     "iopub.status.idle": "2024-11-28T06:14:38.238235Z",
     "shell.execute_reply": "2024-11-28T06:14:38.237297Z",
     "shell.execute_reply.started": "2024-11-28T06:14:38.226283Z"
    },
    "trusted": true
   },
   "outputs": [],
   "source": [
    "df.groupby('Sex')['Survived'].value_counts()"
   ]
  },
  {
   "cell_type": "markdown",
   "metadata": {},
   "source": [
    "## Passenger Class Distribution among Survived/Dead"
   ]
  },
  {
   "cell_type": "code",
   "execution_count": null,
   "metadata": {
    "execution": {
     "iopub.execute_input": "2024-11-28T06:14:38.239916Z",
     "iopub.status.busy": "2024-11-28T06:14:38.239575Z",
     "iopub.status.idle": "2024-11-28T06:14:38.527690Z",
     "shell.execute_reply": "2024-11-28T06:14:38.526786Z",
     "shell.execute_reply.started": "2024-11-28T06:14:38.239882Z"
    },
    "trusted": true
   },
   "outputs": [],
   "source": [
    "# Plot to show the distribution of Pclass among those who Survived/Died\n",
    "sns.countplot(x=\"Pclass\", hue=\"Survived\", data=df)\n",
    "plt.xticks(ticks=[0, 1,2], labels=['High Class','Mid Class','Low Class'])\n",
    "plt.legend(title='Survival Status', labels=['Did not survive', 'Survived'])\n",
    "plt.title(\"Distribution of Passenger Class among those who Survived/Died\");"
   ]
  },
  {
   "cell_type": "code",
   "execution_count": null,
   "metadata": {
    "execution": {
     "iopub.execute_input": "2024-11-28T06:14:38.529600Z",
     "iopub.status.busy": "2024-11-28T06:14:38.528944Z",
     "iopub.status.idle": "2024-11-28T06:14:38.536796Z",
     "shell.execute_reply": "2024-11-28T06:14:38.535902Z",
     "shell.execute_reply.started": "2024-11-28T06:14:38.529557Z"
    },
    "trusted": true
   },
   "outputs": [],
   "source": [
    "df['Pclass'].value_counts()"
   ]
  },
  {
   "cell_type": "code",
   "execution_count": null,
   "metadata": {
    "execution": {
     "iopub.execute_input": "2024-11-28T06:14:38.538111Z",
     "iopub.status.busy": "2024-11-28T06:14:38.537852Z",
     "iopub.status.idle": "2024-11-28T06:14:38.551472Z",
     "shell.execute_reply": "2024-11-28T06:14:38.550440Z",
     "shell.execute_reply.started": "2024-11-28T06:14:38.538085Z"
    },
    "trusted": true
   },
   "outputs": [],
   "source": [
    "df.groupby('Pclass')['Survived'].value_counts()"
   ]
  },
  {
   "cell_type": "markdown",
   "metadata": {},
   "source": [
    "## Ticket Prices Visualization"
   ]
  },
  {
   "cell_type": "code",
   "execution_count": null,
   "metadata": {
    "execution": {
     "iopub.execute_input": "2024-11-28T06:14:38.553068Z",
     "iopub.status.busy": "2024-11-28T06:14:38.552786Z",
     "iopub.status.idle": "2024-11-28T06:14:38.819628Z",
     "shell.execute_reply": "2024-11-28T06:14:38.818754Z",
     "shell.execute_reply.started": "2024-11-28T06:14:38.553040Z"
    },
    "trusted": true
   },
   "outputs": [],
   "source": [
    "#Ticket Fare\n",
    "df[\"Fare\"].hist(grid=False)\n",
    "plt.title(\"Ticket Prices of Titanic\")\n",
    "plt.xlabel(\"Price\")\n",
    "plt.ylabel(\"Frequency\");"
   ]
  },
  {
   "cell_type": "markdown",
   "metadata": {},
   "source": [
    "## Coorelation between numeric columns"
   ]
  },
  {
   "cell_type": "code",
   "execution_count": null,
   "metadata": {
    "execution": {
     "iopub.execute_input": "2024-11-28T06:14:38.820976Z",
     "iopub.status.busy": "2024-11-28T06:14:38.820695Z",
     "iopub.status.idle": "2024-11-28T06:14:39.149898Z",
     "shell.execute_reply": "2024-11-28T06:14:39.148959Z",
     "shell.execute_reply.started": "2024-11-28T06:14:38.820948Z"
    },
    "trusted": true
   },
   "outputs": [],
   "source": [
    "target = \"Survived\"\n",
    "# Checking coorelation among the data\n",
    "corr = df.drop(columns=target).select_dtypes(exclude=\"object\").corr()\n",
    "sns.heatmap(corr)"
   ]
  },
  {
   "cell_type": "markdown",
   "metadata": {},
   "source": [
    "## Class Balance"
   ]
  },
  {
   "cell_type": "code",
   "execution_count": null,
   "metadata": {
    "execution": {
     "iopub.execute_input": "2024-11-28T06:14:39.151937Z",
     "iopub.status.busy": "2024-11-28T06:14:39.151192Z",
     "iopub.status.idle": "2024-11-28T06:14:39.423811Z",
     "shell.execute_reply": "2024-11-28T06:14:39.423002Z",
     "shell.execute_reply.started": "2024-11-28T06:14:39.151888Z"
    },
    "trusted": true
   },
   "outputs": [],
   "source": [
    "# Class Balance\n",
    "df[\"Survived\"].value_counts().plot(kind=\"bar\")\n",
    "plt.xlabel(\"Survival\")\n",
    "plt.ylabel(\"Count\")\n",
    "plt.title(\"Class Balance\")\n",
    "plt.show();"
   ]
  },
  {
   "cell_type": "code",
   "execution_count": null,
   "metadata": {
    "execution": {
     "iopub.execute_input": "2024-11-28T06:14:39.425312Z",
     "iopub.status.busy": "2024-11-28T06:14:39.424987Z",
     "iopub.status.idle": "2024-11-28T06:14:39.636209Z",
     "shell.execute_reply": "2024-11-28T06:14:39.635306Z",
     "shell.execute_reply.started": "2024-11-28T06:14:39.425273Z"
    },
    "trusted": true
   },
   "outputs": [],
   "source": [
    "# Class Balance\n",
    "df[\"Survived\"].value_counts(normalize=True).plot(kind=\"bar\")\n",
    "plt.xlabel(\"Survival\")\n",
    "plt.ylabel(\"Percentage\")\n",
    "plt.title(\"Class Balance\")\n",
    "plt.show()"
   ]
  },
  {
   "cell_type": "code",
   "execution_count": null,
   "metadata": {
    "execution": {
     "iopub.execute_input": "2024-11-28T06:17:45.254283Z",
     "iopub.status.busy": "2024-11-28T06:17:45.253471Z",
     "iopub.status.idle": "2024-11-28T06:17:45.610682Z",
     "shell.execute_reply": "2024-11-28T06:17:45.609703Z",
     "shell.execute_reply.started": "2024-11-28T06:17:45.254232Z"
    },
    "trusted": true
   },
   "outputs": [],
   "source": [
    "total_corr = df.drop(columns=['PassengerId']).select_dtypes(exclude='object').corr()\n",
    "sns.heatmap(total_corr)"
   ]
  },
  {
   "cell_type": "code",
   "execution_count": null,
   "metadata": {
    "execution": {
     "iopub.execute_input": "2024-11-28T06:17:52.039738Z",
     "iopub.status.busy": "2024-11-28T06:17:52.039304Z",
     "iopub.status.idle": "2024-11-28T06:17:52.052365Z",
     "shell.execute_reply": "2024-11-28T06:17:52.051557Z",
     "shell.execute_reply.started": "2024-11-28T06:17:52.039704Z"
    },
    "trusted": true
   },
   "outputs": [],
   "source": [
    "total_corr"
   ]
  },
  {
   "cell_type": "code",
   "execution_count": null,
   "metadata": {
    "execution": {
     "iopub.execute_input": "2024-11-28T06:18:15.102601Z",
     "iopub.status.busy": "2024-11-28T06:18:15.101502Z",
     "iopub.status.idle": "2024-11-28T06:18:15.383450Z",
     "shell.execute_reply": "2024-11-28T06:18:15.382631Z",
     "shell.execute_reply.started": "2024-11-28T06:18:15.102552Z"
    },
    "trusted": true
   },
   "outputs": [],
   "source": [
    "from statsmodels.formula.api import logit"
   ]
  },
  {
   "cell_type": "code",
   "execution_count": null,
   "metadata": {
    "execution": {
     "iopub.execute_input": "2024-11-28T06:50:23.064896Z",
     "iopub.status.busy": "2024-11-28T06:50:23.064555Z",
     "iopub.status.idle": "2024-11-28T06:50:23.070018Z",
     "shell.execute_reply": "2024-11-28T06:50:23.069146Z",
     "shell.execute_reply.started": "2024-11-28T06:50:23.064866Z"
    },
    "trusted": true
   },
   "outputs": [],
   "source": [
    "def cal_accuracy(df, column):\n",
    "    formula = f'Survived ~ {column}'\n",
    "    mdl = logit(formula,data=df).fit()\n",
    "    conf_matrix = mdl.pred_table()\n",
    "    TN=conf_matrix[0,0]\n",
    "    TP=conf_matrix[1,1]\n",
    "    FP=conf_matrix[0,1]\n",
    "    FN=conf_matrix[1,0]\n",
    "    accuracy = (TP + TN) / (TP + TN + FP + FN)\n",
    "    return accuracy"
   ]
  },
  {
   "cell_type": "code",
   "execution_count": null,
   "metadata": {
    "execution": {
     "iopub.execute_input": "2024-11-28T06:50:23.235058Z",
     "iopub.status.busy": "2024-11-28T06:50:23.234733Z",
     "iopub.status.idle": "2024-11-28T06:50:23.288675Z",
     "shell.execute_reply": "2024-11-28T06:50:23.286870Z",
     "shell.execute_reply.started": "2024-11-28T06:50:23.235027Z"
    },
    "trusted": true
   },
   "outputs": [],
   "source": [
    "acc_columns = ['Pclass', 'Sex', 'Age', 'SibSp',\n",
    "       'Parch', 'Fare', 'Embarked']\n",
    "accuracies = []\n",
    "for column in acc_columns:\n",
    "    accuracies.append((column,cal_accuracy(df,column)))"
   ]
  },
  {
   "cell_type": "code",
   "execution_count": null,
   "metadata": {
    "execution": {
     "iopub.execute_input": "2024-11-28T06:50:47.817776Z",
     "iopub.status.busy": "2024-11-28T06:50:47.817424Z",
     "iopub.status.idle": "2024-11-28T06:50:47.823794Z",
     "shell.execute_reply": "2024-11-28T06:50:47.822761Z",
     "shell.execute_reply.started": "2024-11-28T06:50:47.817744Z"
    },
    "trusted": true
   },
   "outputs": [],
   "source": [
    "sorted(accuracies,key=lambda x:x[1],reverse=True)"
   ]
  }
 ],
 "metadata": {
  "kaggle": {
   "accelerator": "none",
   "dataSources": [
    {
     "databundleVersionId": 26502,
     "sourceId": 3136,
     "sourceType": "competition"
    }
   ],
   "dockerImageVersionId": 30787,
   "isGpuEnabled": false,
   "isInternetEnabled": false,
   "language": "python",
   "sourceType": "notebook"
  },
  "kernelspec": {
   "display_name": "Python 3",
   "language": "python",
   "name": "python3"
  },
  "language_info": {
   "codemirror_mode": {
    "name": "ipython",
    "version": 3
   },
   "file_extension": ".py",
   "mimetype": "text/x-python",
   "name": "python",
   "nbconvert_exporter": "python",
   "pygments_lexer": "ipython3",
   "version": "3.10.14"
  }
 },
 "nbformat": 4,
 "nbformat_minor": 4
}
